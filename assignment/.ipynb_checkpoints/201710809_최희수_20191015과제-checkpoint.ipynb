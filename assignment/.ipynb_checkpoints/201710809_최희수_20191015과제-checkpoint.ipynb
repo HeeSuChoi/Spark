{
 "cells": [
  {
   "cell_type": "code",
   "execution_count": 1,
   "metadata": {},
   "outputs": [],
   "source": [
    "import os\n",
    "import sys\n",
    "\n",
    "os.environ[\"SPARK_HOME\"]=os.path.join(os.path.expanduser(\"~\"),'spark-2.0.0-bin-hadoop2.7')\n",
    "os.environ[\"PYLIB\"]=os.path.join(os.environ[\"SPARK_HOME\"],'python','lib')\n",
    "sys.path.insert(0,os.path.join(os.environ[\"PYLIB\"],'py4j-0.10.1-src.zip'))\n",
    "sys.path.insert(0,os.path.join(os.environ[\"PYLIB\"],'pyspark.zip'))"
   ]
  },
  {
   "cell_type": "code",
   "execution_count": 2,
   "metadata": {},
   "outputs": [],
   "source": [
    "import pyspark\n",
    "myConf=pyspark.SparkConf()\n",
    "spark = pyspark.sql.SparkSession.builder\\\n",
    "    .master(\"local\")\\\n",
    "    .appName(\"myApp\")\\\n",
    "    .config('spark.sql.warehouse.dir','C:\\Users\\qorgk\\code\\spark')\\\n",
    "    .getOrCreate()"
   ]
  },
  {
   "cell_type": "code",
   "execution_count": 3,
   "metadata": {},
   "outputs": [],
   "source": [
    "from pyspark.sql import Row\n",
    "from pyspark.sql.types import *\n",
    "import pandas as pd\n",
    "import numpy as np\n",
    "import matplotlib.pyplot as plt\n",
    "import requests"
   ]
  },
  {
   "cell_type": "code",
   "execution_count": 6,
   "metadata": {},
   "outputs": [
    {
     "name": "stdout",
     "output_type": "stream",
     "text": [
      "C:\\Users\\qorgk\\code\\spark\\assignment\\data\\kddcup.data_10_percent.gz data does not exist! retrieving..\n"
     ]
    }
   ],
   "source": [
    "#rdd 생성\n",
    "\n",
    "import urllib\n",
    "url = 'http://kdd.ics.uci.edu/databases/kddcup99/kddcup.data_10_percent.gz'\n",
    "name = os.path.join(os.getcwd(),'data','kddcup.data_10_percent.gz')\n",
    "if(not os.path.exists(name)):\n",
    "    print \"%s data does not exist! retrieving..\" % name\n",
    "    f=urllib.urlretrieve(url,name)\n",
    "rdd = spark.sparkContext.textFile(name)"
   ]
  },
  {
   "cell_type": "code",
   "execution_count": 9,
   "metadata": {},
   "outputs": [],
   "source": [
    "# dataframe 생성\n",
    "\n",
    "csv = rdd.map(lambda l: l.split(\",\"))\n",
    "csvRdd = csv.map(lambda p: \n",
    "    Row(\n",
    "        duration=int(p[0]), \n",
    "        protocol=p[1],\n",
    "        service=p[2],\n",
    "        flag=p[3],\n",
    "        src_bytes=int(p[4]),\n",
    "        dst_bytes=int(p[5]),\n",
    "        attack=p[41]\n",
    "    )\n",
    ")"
   ]
  },
  {
   "cell_type": "code",
   "execution_count": 10,
   "metadata": {},
   "outputs": [],
   "source": [
    "df = spark.createDataFrame(csvRdd)"
   ]
  },
  {
   "cell_type": "code",
   "execution_count": 11,
   "metadata": {
    "scrolled": true
   },
   "outputs": [
    {
     "name": "stdout",
     "output_type": "stream",
     "text": [
      "root\n",
      " |-- attack: string (nullable = true)\n",
      " |-- dst_bytes: long (nullable = true)\n",
      " |-- duration: long (nullable = true)\n",
      " |-- flag: string (nullable = true)\n",
      " |-- protocol: string (nullable = true)\n",
      " |-- service: string (nullable = true)\n",
      " |-- src_bytes: long (nullable = true)\n",
      "\n",
      "+-------+---------+--------+----+--------+-------+---------+\n",
      "| attack|dst_bytes|duration|flag|protocol|service|src_bytes|\n",
      "+-------+---------+--------+----+--------+-------+---------+\n",
      "|normal.|     5450|       0|  SF|     tcp|   http|      181|\n",
      "|normal.|      486|       0|  SF|     tcp|   http|      239|\n",
      "|normal.|     1337|       0|  SF|     tcp|   http|      235|\n",
      "|normal.|     1337|       0|  SF|     tcp|   http|      219|\n",
      "|normal.|     2032|       0|  SF|     tcp|   http|      217|\n",
      "|normal.|     2032|       0|  SF|     tcp|   http|      217|\n",
      "|normal.|     1940|       0|  SF|     tcp|   http|      212|\n",
      "|normal.|     4087|       0|  SF|     tcp|   http|      159|\n",
      "|normal.|      151|       0|  SF|     tcp|   http|      210|\n",
      "|normal.|      786|       0|  SF|     tcp|   http|      212|\n",
      "|normal.|      624|       0|  SF|     tcp|   http|      210|\n",
      "|normal.|     1985|       0|  SF|     tcp|   http|      177|\n",
      "|normal.|      773|       0|  SF|     tcp|   http|      222|\n",
      "|normal.|     1169|       0|  SF|     tcp|   http|      256|\n",
      "|normal.|      259|       0|  SF|     tcp|   http|      241|\n",
      "|normal.|     1837|       0|  SF|     tcp|   http|      260|\n",
      "|normal.|      261|       0|  SF|     tcp|   http|      241|\n",
      "|normal.|      818|       0|  SF|     tcp|   http|      257|\n",
      "|normal.|      255|       0|  SF|     tcp|   http|      233|\n",
      "|normal.|      504|       0|  SF|     tcp|   http|      233|\n",
      "+-------+---------+--------+----+--------+-------+---------+\n",
      "only showing top 20 rows\n",
      "\n"
     ]
    }
   ],
   "source": [
    "df.printSchema()\n",
    "df.show()"
   ]
  },
  {
   "cell_type": "code",
   "execution_count": 12,
   "metadata": {},
   "outputs": [],
   "source": [
    "from pyspark.sql.functions import udf\n",
    "attack_udf = udf(lambda x: \"normal\" if x ==\"normal.\" else \"attack\", StringType())\n",
    "myDf=df.withColumn(\"attackB\", attack_udf(df.attack))"
   ]
  },
  {
   "cell_type": "code",
   "execution_count": 13,
   "metadata": {},
   "outputs": [
    {
     "name": "stdout",
     "output_type": "stream",
     "text": [
      "root\n",
      " |-- attack: string (nullable = true)\n",
      " |-- dst_bytes: long (nullable = true)\n",
      " |-- duration: long (nullable = true)\n",
      " |-- flag: string (nullable = true)\n",
      " |-- protocol: string (nullable = true)\n",
      " |-- service: string (nullable = true)\n",
      " |-- src_bytes: long (nullable = true)\n",
      " |-- attackB: string (nullable = true)\n",
      "\n"
     ]
    }
   ],
   "source": [
    "myDf.printSchema()"
   ]
  },
  {
   "cell_type": "code",
   "execution_count": 22,
   "metadata": {},
   "outputs": [],
   "source": [
    "#attack 분류\n",
    "\n",
    "def classifyAttack(s):\n",
    "    c = \"\"\n",
    "    if s ==\"normal.\":\n",
    "        c=\"normal\"\n",
    "    elif s ==\"back.\" or s ==\"land.\" or s ==\"neptune.\" or s ==\"pod.\" or s ==\"smurf.\" or s ==\"teardrop.\":\n",
    "        c=\"DOS\"\n",
    "    elif s ==\"ftp_write.\" or s ==\"guess_passwd.\" or s ==\"imap.\"or s ==\"multihop.\"or s ==\"phf.\"or s ==\"spy.\"or s ==\"warezclient.\"or s ==\"warezmaster.\":\n",
    "        c=\"R2L\"\n",
    "    elif s ==\"buffer_overflow.\"or s ==\"loadmodule.\"or s ==\"perl.\"or s ==\"rootkit.\":\n",
    "        c=\"U2R\"\n",
    "    elif s ==\"ipsweep.\"or s ==\"nmap.\"or s ==\"portsweep.\"or s ==\"satan.\":\n",
    "        c=\"probing\"\n",
    "    return c"
   ]
  },
  {
   "cell_type": "code",
   "execution_count": 23,
   "metadata": {},
   "outputs": [],
   "source": [
    "attackUdf = udf(classifyAttack, StringType())\n",
    "myDf=myDf.withColumn(\"attack5\", attackUdf(df.attack))"
   ]
  },
  {
   "cell_type": "code",
   "execution_count": 24,
   "metadata": {},
   "outputs": [
    {
     "name": "stdout",
     "output_type": "stream",
     "text": [
      "root\n",
      " |-- attack: string (nullable = true)\n",
      " |-- dst_bytes: long (nullable = true)\n",
      " |-- duration: long (nullable = true)\n",
      " |-- flag: string (nullable = true)\n",
      " |-- protocol: string (nullable = true)\n",
      " |-- service: string (nullable = true)\n",
      " |-- src_bytes: long (nullable = true)\n",
      " |-- attackB: string (nullable = true)\n",
      " |-- attack5: string (nullable = true)\n",
      "\n",
      "+-------+---------+--------+----+--------+-------+---------+-------+-------+\n",
      "| attack|dst_bytes|duration|flag|protocol|service|src_bytes|attackB|attack5|\n",
      "+-------+---------+--------+----+--------+-------+---------+-------+-------+\n",
      "|normal.|     5450|       0|  SF|     tcp|   http|      181| normal| normal|\n",
      "|normal.|      486|       0|  SF|     tcp|   http|      239| normal| normal|\n",
      "|normal.|     1337|       0|  SF|     tcp|   http|      235| normal| normal|\n",
      "|normal.|     1337|       0|  SF|     tcp|   http|      219| normal| normal|\n",
      "|normal.|     2032|       0|  SF|     tcp|   http|      217| normal| normal|\n",
      "|normal.|     2032|       0|  SF|     tcp|   http|      217| normal| normal|\n",
      "|normal.|     1940|       0|  SF|     tcp|   http|      212| normal| normal|\n",
      "|normal.|     4087|       0|  SF|     tcp|   http|      159| normal| normal|\n",
      "|normal.|      151|       0|  SF|     tcp|   http|      210| normal| normal|\n",
      "|normal.|      786|       0|  SF|     tcp|   http|      212| normal| normal|\n",
      "|normal.|      624|       0|  SF|     tcp|   http|      210| normal| normal|\n",
      "|normal.|     1985|       0|  SF|     tcp|   http|      177| normal| normal|\n",
      "|normal.|      773|       0|  SF|     tcp|   http|      222| normal| normal|\n",
      "|normal.|     1169|       0|  SF|     tcp|   http|      256| normal| normal|\n",
      "|normal.|      259|       0|  SF|     tcp|   http|      241| normal| normal|\n",
      "|normal.|     1837|       0|  SF|     tcp|   http|      260| normal| normal|\n",
      "|normal.|      261|       0|  SF|     tcp|   http|      241| normal| normal|\n",
      "|normal.|      818|       0|  SF|     tcp|   http|      257| normal| normal|\n",
      "|normal.|      255|       0|  SF|     tcp|   http|      233| normal| normal|\n",
      "|normal.|      504|       0|  SF|     tcp|   http|      233| normal| normal|\n",
      "+-------+---------+--------+----+--------+-------+---------+-------+-------+\n",
      "only showing top 20 rows\n",
      "\n"
     ]
    }
   ],
   "source": [
    "myDf.printSchema()\n",
    "myDf.show()"
   ]
  },
  {
   "cell_type": "markdown",
   "metadata": {},
   "source": [
    "### 분석"
   ]
  },
  {
   "cell_type": "code",
   "execution_count": 26,
   "metadata": {},
   "outputs": [
    {
     "name": "stdout",
     "output_type": "stream",
     "text": [
      "+-------+------+\n",
      "|attack5| count|\n",
      "+-------+------+\n",
      "|probing|  4107|\n",
      "|    R2L|  1126|\n",
      "| normal| 97278|\n",
      "|    DOS|391458|\n",
      "|    U2R|    52|\n",
      "+-------+------+\n",
      "\n"
     ]
    }
   ],
   "source": [
    "# attack별로 건수 조회하기\n",
    "myDf.groupBy('attack5').count().show()"
   ]
  },
  {
   "cell_type": "code",
   "execution_count": 27,
   "metadata": {},
   "outputs": [
    {
     "name": "stdout",
     "output_type": "stream",
     "text": [
      "+--------+------+\n",
      "|protocol| count|\n",
      "+--------+------+\n",
      "|     tcp|190065|\n",
      "|     udp| 20354|\n",
      "|    icmp|283602|\n",
      "+--------+------+\n",
      "\n"
     ]
    }
   ],
   "source": [
    "# protocol별로 건수 조회하기\n",
    "myDf.groupBy('protocol').count().show()"
   ]
  },
  {
   "cell_type": "code",
   "execution_count": 28,
   "metadata": {},
   "outputs": [
    {
     "name": "stdout",
     "output_type": "stream",
     "text": [
      "+-------+--------+------+\n",
      "|attackB|protocol| count|\n",
      "+-------+--------+------+\n",
      "| normal|     udp| 19177|\n",
      "| normal|    icmp|  1288|\n",
      "| normal|     tcp| 76813|\n",
      "| attack|    icmp|282314|\n",
      "| attack|     tcp|113252|\n",
      "| attack|     udp|  1177|\n",
      "+-------+--------+------+\n",
      "\n"
     ]
    }
   ],
   "source": [
    "# attack과 normal, protocol별로 건수 조회\n",
    "myDf.groupBy('attackB','protocol').count().show()"
   ]
  },
  {
   "cell_type": "code",
   "execution_count": 29,
   "metadata": {},
   "outputs": [
    {
     "name": "stdout",
     "output_type": "stream",
     "text": [
      "+-------+--------+------+\n",
      "|attack5|protocol| count|\n",
      "+-------+--------+------+\n",
      "| normal|     udp| 19177|\n",
      "|probing|    icmp|  1260|\n",
      "| normal|    icmp|  1288|\n",
      "|    R2L|     tcp|  1126|\n",
      "|    DOS|     udp|   979|\n",
      "| normal|     tcp| 76813|\n",
      "|    DOS|    icmp|281054|\n",
      "|    U2R|     udp|     3|\n",
      "|probing|     udp|   195|\n",
      "|    U2R|     tcp|    49|\n",
      "|probing|     tcp|  2652|\n",
      "|    DOS|     tcp|109425|\n",
      "+-------+--------+------+\n",
      "\n"
     ]
    }
   ],
   "source": [
    "#attack, protocol별로 건수 조회\n",
    "myDf.groupBy('attack5','protocol').count().show()"
   ]
  },
  {
   "cell_type": "code",
   "execution_count": 30,
   "metadata": {},
   "outputs": [
    {
     "name": "stdout",
     "output_type": "stream",
     "text": [
      "+-------+------+------+-----+\n",
      "|attack5|  icmp|   tcp|  udp|\n",
      "+-------+------+------+-----+\n",
      "|probing|  1260|  2652|  195|\n",
      "|    R2L|  null|  1126| null|\n",
      "| normal|  1288| 76813|19177|\n",
      "|    DOS|281054|109425|  979|\n",
      "|    U2R|  null|    49|    3|\n",
      "+-------+------+------+-----+\n",
      "\n"
     ]
    }
   ],
   "source": [
    "# 위와 조회한 내용은 같지만 protocol을 pivot으로 하여 조회 가시성이 상승\n",
    "myDf.groupBy('attack5').pivot('protocol').count().show()"
   ]
  },
  {
   "cell_type": "code",
   "execution_count": 31,
   "metadata": {},
   "outputs": [
    {
     "name": "stdout",
     "output_type": "stream",
     "text": [
      "+-------+--------------------+\n",
      "|attack5|       avg(duration)|\n",
      "+-------+--------------------+\n",
      "|probing|   485.0299488677867|\n",
      "|    R2L|   559.7522202486679|\n",
      "| normal|  216.65732231336992|\n",
      "|    DOS|7.254929008986916E-4|\n",
      "|    U2R|    80.9423076923077|\n",
      "+-------+--------------------+\n",
      "\n"
     ]
    }
   ],
   "source": [
    "# attack별 duration의 평균 길이 조회\n",
    "myDf.groupBy('attack5').avg('duration').show()"
   ]
  },
  {
   "cell_type": "code",
   "execution_count": 32,
   "metadata": {},
   "outputs": [
    {
     "name": "stdout",
     "output_type": "stream",
     "text": [
      "+-------+----+-------+---+\n",
      "|attackB|icmp|    tcp|udp|\n",
      "+-------+----+-------+---+\n",
      "| normal|   0|5134218|516|\n",
      "| attack|   0|5155468| 74|\n",
      "+-------+----+-------+---+\n",
      "\n"
     ]
    }
   ],
   "source": [
    "# attack과 protocol별 dst_bytes의 최대값 조회\n",
    "from pyspark.sql import functions as F\n",
    "myDf.groupBy('attackB').pivot('protocol').agg(F.max('dst_bytes')).show()"
   ]
  },
  {
   "cell_type": "code",
   "execution_count": 33,
   "metadata": {},
   "outputs": [
    {
     "name": "stdout",
     "output_type": "stream",
     "text": [
      "+-------+-----+\n",
      "|attack5|count|\n",
      "+-------+-----+\n",
      "|probing|   84|\n",
      "|    R2L|   93|\n",
      "| normal| 4414|\n",
      "|    U2R|    1|\n",
      "+-------+-----+\n",
      "\n"
     ]
    }
   ],
   "source": [
    "# attack별 duration>500인 개수 조회\n",
    "myDf.filter(df.duration>500).groupBy('attack5').count().show()"
   ]
  },
  {
   "cell_type": "code",
   "execution_count": 40,
   "metadata": {},
   "outputs": [
    {
     "name": "stdout",
     "output_type": "stream",
     "text": [
      "+-------+--------+-----+\n",
      "|attackB|protocol|count|\n",
      "+-------+--------+-----+\n",
      "| normal|     udp| 4326|\n",
      "| normal|     tcp|   88|\n",
      "| attack|     tcp|  178|\n",
      "+-------+--------+-----+\n",
      "\n"
     ]
    }
   ],
   "source": [
    "# attack과 normal, protocol별 duration>500인 개수 조회\n",
    "myDf.filter(df.duration>500).groupBy('attackB','protocol').count().show()"
   ]
  },
  {
   "cell_type": "code",
   "execution_count": 36,
   "metadata": {},
   "outputs": [
    {
     "name": "stdout",
     "output_type": "stream",
     "text": [
      "+-------+---+----+\n",
      "|attackB|tcp| udp|\n",
      "+-------+---+----+\n",
      "| normal| 88|4326|\n",
      "| attack|178|null|\n",
      "+-------+---+----+\n",
      "\n"
     ]
    }
   ],
   "source": [
    "# 위와 내용은 동일. pivot함수를 사용하여 가시성 높임\n",
    "myDf.filter(df.duration>500).groupBy('attackB').pivot('protocol').count().show()"
   ]
  },
  {
   "cell_type": "code",
   "execution_count": 35,
   "metadata": {},
   "outputs": [
    {
     "name": "stdout",
     "output_type": "stream",
     "text": [
      "+-------+------------------+------------------+------------------+\n",
      "|attack5|              icmp|               tcp|               udp|\n",
      "+-------+------------------+------------------+------------------+\n",
      "|probing|10.700793650793651| 261454.6003016591|25.235897435897435|\n",
      "|    R2L|              null|271972.57460035523|              null|\n",
      "| normal| 91.47049689440993|1439.3120305156679| 98.01220211711947|\n",
      "|    DOS| 936.2672084368129| 1090.303422435458|              28.0|\n",
      "|    U2R|              null| 960.8979591836735|13.333333333333334|\n",
      "+-------+------------------+------------------+------------------+\n",
      "\n"
     ]
    }
   ],
   "source": [
    "# attack과 protocol별 src_bytes의 평균 조회\n",
    "myDf.groupBy('attack5').pivot('protocol').avg('src_bytes').show()"
   ]
  },
  {
   "cell_type": "code",
   "execution_count": 37,
   "metadata": {},
   "outputs": [
    {
     "name": "stdout",
     "output_type": "stream",
     "text": [
      "+-------+--------------------+\n",
      "|attack5|       avg(duration)|\n",
      "+-------+--------------------+\n",
      "|probing|   485.0299488677867|\n",
      "|    R2L|   559.7522202486679|\n",
      "| normal|  216.65732231336992|\n",
      "|    DOS|7.254929008986916E-4|\n",
      "|    U2R|    80.9423076923077|\n",
      "+-------+--------------------+\n",
      "\n"
     ]
    }
   ],
   "source": [
    "# attack별 duration의 평균 조회\n",
    "myDf.groupBy('attack5').avg('duration').show()"
   ]
  }
 ],
 "metadata": {
  "kernelspec": {
   "display_name": "Python 2",
   "language": "python",
   "name": "python2"
  },
  "language_info": {
   "codemirror_mode": {
    "name": "ipython",
    "version": 2
   },
   "file_extension": ".py",
   "mimetype": "text/x-python",
   "name": "python",
   "nbconvert_exporter": "python",
   "pygments_lexer": "ipython2",
   "version": "2.7.16"
  }
 },
 "nbformat": 4,
 "nbformat_minor": 2
}
